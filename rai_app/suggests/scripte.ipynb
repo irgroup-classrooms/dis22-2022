{
 "cells": [
  {
   "cell_type": "code",
   "execution_count": null,
   "metadata": {},
   "outputs": [],
   "source": []
  }
 ],
 "metadata": {
  "interpreter": {
   "hash": "d2fd5005ddeb830eaaea5eaee6080fdf183b8aef39e2feae7aae01a1a44c69e4"
  },
  "kernelspec": {
   "display_name": "Python 3.9.12 ('shaerp2')",
   "language": "python",
   "name": "python3"
  },
  "language_info": {
   "name": "python",
   "version": "3.9.12"
  },
  "orig_nbformat": 4
 },
 "nbformat": 4,
 "nbformat_minor": 2
}
