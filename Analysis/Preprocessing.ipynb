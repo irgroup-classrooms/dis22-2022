{
 "cells": [
  {
   "cell_type": "markdown",
   "id": "f3ecc964",
   "metadata": {
    "id": "f3ecc964",
    "toc": true
   },
   "source": [
    "<h1>Table of Contents<span class=\"tocSkip\"></span></h1>\n",
    "<div class=\"toc\"><ul class=\"toc-item\"><li><span><a href=\"#|-Preliminaries\" data-toc-modified-id=\"|-Preliminaries-1\"><span class=\"toc-item-num\">1&nbsp;&nbsp;</span>| Preliminaries</a></span></li><li><span><a href=\"#|-Cleaning\" data-toc-modified-id=\"|-Cleaning-2\"><span class=\"toc-item-num\">2&nbsp;&nbsp;</span>| Cleaning</a></span></li><li><span><a href=\"#|-Tokenization\" data-toc-modified-id=\"|-Tokenization-3\"><span class=\"toc-item-num\">3&nbsp;&nbsp;</span>| Tokenization</a></span></li><li><span><a href=\"#|-POS-Tagging\" data-toc-modified-id=\"|-POS-Tagging-4\"><span class=\"toc-item-num\">4&nbsp;&nbsp;</span>| POS Tagging</a></span></li><li><span><a href=\"#|-Language-Detection\" data-toc-modified-id=\"|-Language-Detection-5\"><span class=\"toc-item-num\">5&nbsp;&nbsp;</span>| Language Detection</a></span><ul class=\"toc-item\"><li><ul class=\"toc-item\"><li><span><a href=\"#Ratio-other-languages\" data-toc-modified-id=\"Ratio-other-languages-5.0.1\"><span class=\"toc-item-num\">5.0.1&nbsp;&nbsp;</span>Ratio other languages</a></span></li></ul></li></ul></li><li><span><a href=\"#|-Linguistic-Processing\" data-toc-modified-id=\"|-Linguistic-Processing-6\"><span class=\"toc-item-num\">6&nbsp;&nbsp;</span>| Linguistic Processing</a></span><ul class=\"toc-item\"><li><span><a href=\"#|-Lemmatization\" data-toc-modified-id=\"|-Lemmatization-6.1\"><span class=\"toc-item-num\">6.1&nbsp;&nbsp;</span>| Lemmatization</a></span></li></ul></li><li><span><a href=\"#|-Frequencies-for-categories\" data-toc-modified-id=\"|-Frequencies-for-categories-7\"><span class=\"toc-item-num\">7&nbsp;&nbsp;</span>| Frequencies for categories</a></span></li><li><span><a href=\"#|-Vectorisierung\" data-toc-modified-id=\"|-Vectorisierung-8\"><span class=\"toc-item-num\">8&nbsp;&nbsp;</span>| Vectorisierung</a></span><ul class=\"toc-item\"><li><span><a href=\"#|-SpaCy\" data-toc-modified-id=\"|-SpaCy-8.1\"><span class=\"toc-item-num\">8.1&nbsp;&nbsp;</span>| SpaCy</a></span></li><li><span><a href=\"#|-Gensim\" data-toc-modified-id=\"|-Gensim-8.2\"><span class=\"toc-item-num\">8.2&nbsp;&nbsp;</span>| Gensim</a></span></li></ul></li></ul></div>"
   ]
  },
  {
   "cell_type": "markdown",
   "id": "1db20348",
   "metadata": {
    "id": "1db20348"
   },
   "source": [
    "# | Preliminaries"
   ]
  },
  {
   "cell_type": "code",
   "execution_count": 1,
   "id": "fc973a6a",
   "metadata": {
    "colab": {
     "base_uri": "https://localhost:8080/",
     "height": 380
    },
    "id": "fc973a6a",
    "outputId": "0ffc60e7-82cf-4d54-c0a3-d4edbd7803e8",
    "pycharm": {
     "is_executing": true
    }
   },
   "outputs": [
    {
     "name": "stderr",
     "output_type": "stream",
     "text": [
      "[nltk_data] Downloading package averaged_perceptron_tagger to\n",
      "[nltk_data]     /Users/landsiedelj/nltk_data...\n",
      "[nltk_data]   Package averaged_perceptron_tagger is already up-to-\n",
      "[nltk_data]       date!\n"
     ]
    }
   ],
   "source": [
    "import pickle\n",
    "import pandas as pd\n",
    "import numpy as np\n",
    "import regex as re\n",
    "\n",
    "# spaCy - Named Entity, Vecotorization\n",
    "import spacy\n",
    "nlp = spacy.load(\"de_core_news_lg\")\n",
    "from spacy.matcher import PhraseMatcher\n",
    "from spacy.tokens import Span\n",
    "from spacy.tokens import Doc\n",
    "\n",
    "# Tokenization\n",
    "import nltk\n",
    "from nltk.tokenize import RegexpTokenizer\n",
    "nltk.download('averaged_perceptron_tagger')\n",
    "\n",
    "# QOL\n",
    "from tqdm import tqdm\n",
    "\n",
    "# Language Detection\n",
    "\n",
    "from lingua import Language, LanguageDetectorBuilder\n",
    "\n",
    "import warnings\n",
    "warnings.filterwarnings('ignore')"
   ]
  },
  {
   "cell_type": "code",
   "execution_count": 2,
   "id": "e0d259d0",
   "metadata": {
    "id": "e0d259d0",
    "pycharm": {
     "is_executing": true
    }
   },
   "outputs": [],
   "source": [
    "df = pd.read_pickle('/Users/landsiedelj/Downloads/export.pkl')\n",
    "df_person = pd.read_excel('/Users/landsiedelj/Downloads/WikiPersonen_nach1900_lebend_mitGeschlecht_mitGeburtsland_mitBerufskategorien_mitKlickzahlen.xlsx')"
   ]
  },
  {
   "cell_type": "markdown",
   "id": "4d4ee049",
   "metadata": {
    "id": "4d4ee049"
   },
   "source": [
    "# | Cleaning"
   ]
  },
  {
   "cell_type": "code",
   "execution_count": 3,
   "id": "b0d74e8f",
   "metadata": {
    "id": "b0d74e8f",
    "outputId": "474ae5f8-b700-4369-d3fb-d3d55d308a64",
    "pycharm": {
     "is_executing": true
    }
   },
   "outputs": [
    {
     "data": {
      "text/html": [
       "<div>\n",
       "<style scoped>\n",
       "    .dataframe tbody tr th:only-of-type {\n",
       "        vertical-align: middle;\n",
       "    }\n",
       "\n",
       "    .dataframe tbody tr th {\n",
       "        vertical-align: top;\n",
       "    }\n",
       "\n",
       "    .dataframe thead th {\n",
       "        text-align: right;\n",
       "    }\n",
       "</style>\n",
       "<table border=\"1\" class=\"dataframe\">\n",
       "  <thead>\n",
       "    <tr style=\"text-align: right;\">\n",
       "      <th></th>\n",
       "      <th>Unnamed: 0</th>\n",
       "      <th>root</th>\n",
       "      <th>source</th>\n",
       "      <th>target</th>\n",
       "      <th>rank</th>\n",
       "      <th>depth</th>\n",
       "      <th>grandparent</th>\n",
       "      <th>parent</th>\n",
       "      <th>source_add</th>\n",
       "      <th>target_add</th>\n",
       "    </tr>\n",
       "  </thead>\n",
       "  <tbody>\n",
       "    <tr>\n",
       "      <th>0</th>\n",
       "      <td>0</td>\n",
       "      <td>christian eriksen</td>\n",
       "      <td>christian eriksen</td>\n",
       "      <td>christian eriksen aktuell</td>\n",
       "      <td>1</td>\n",
       "      <td>0</td>\n",
       "      <td>NaN</td>\n",
       "      <td>NaN</td>\n",
       "      <td>christian eriksen</td>\n",
       "      <td>aktuell</td>\n",
       "    </tr>\n",
       "    <tr>\n",
       "      <th>1</th>\n",
       "      <td>1</td>\n",
       "      <td>christian eriksen</td>\n",
       "      <td>christian eriksen</td>\n",
       "      <td>christian eriksen ajax</td>\n",
       "      <td>2</td>\n",
       "      <td>0</td>\n",
       "      <td>NaN</td>\n",
       "      <td>NaN</td>\n",
       "      <td>christian eriksen</td>\n",
       "      <td>ajax</td>\n",
       "    </tr>\n",
       "    <tr>\n",
       "      <th>2</th>\n",
       "      <td>2</td>\n",
       "      <td>christian eriksen</td>\n",
       "      <td>christian eriksen</td>\n",
       "      <td>christian eriksen alter</td>\n",
       "      <td>3</td>\n",
       "      <td>0</td>\n",
       "      <td>NaN</td>\n",
       "      <td>NaN</td>\n",
       "      <td>christian eriksen</td>\n",
       "      <td>alter</td>\n",
       "    </tr>\n",
       "    <tr>\n",
       "      <th>3</th>\n",
       "      <td>3</td>\n",
       "      <td>christian eriksen</td>\n",
       "      <td>christian eriksen</td>\n",
       "      <td>christian eriksen aktuelle teams</td>\n",
       "      <td>4</td>\n",
       "      <td>0</td>\n",
       "      <td>NaN</td>\n",
       "      <td>NaN</td>\n",
       "      <td>christian eriksen</td>\n",
       "      <td>aktuelle teams</td>\n",
       "    </tr>\n",
       "    <tr>\n",
       "      <th>4</th>\n",
       "      <td>4</td>\n",
       "      <td>christian eriksen</td>\n",
       "      <td>christian eriksen</td>\n",
       "      <td>christian eriksen amsterdam</td>\n",
       "      <td>5</td>\n",
       "      <td>0</td>\n",
       "      <td>NaN</td>\n",
       "      <td>NaN</td>\n",
       "      <td>christian eriksen</td>\n",
       "      <td>amsterdam</td>\n",
       "    </tr>\n",
       "  </tbody>\n",
       "</table>\n",
       "</div>"
      ],
      "text/plain": [
       "   Unnamed: 0               root             source  \\\n",
       "0           0  christian eriksen  christian eriksen   \n",
       "1           1  christian eriksen  christian eriksen   \n",
       "2           2  christian eriksen  christian eriksen   \n",
       "3           3  christian eriksen  christian eriksen   \n",
       "4           4  christian eriksen  christian eriksen   \n",
       "\n",
       "                             target  rank  depth  grandparent parent  \\\n",
       "0         christian eriksen aktuell     1      0          NaN    NaN   \n",
       "1            christian eriksen ajax     2      0          NaN    NaN   \n",
       "2           christian eriksen alter     3      0          NaN    NaN   \n",
       "3  christian eriksen aktuelle teams     4      0          NaN    NaN   \n",
       "4       christian eriksen amsterdam     5      0          NaN    NaN   \n",
       "\n",
       "          source_add      target_add  \n",
       "0  christian eriksen         aktuell  \n",
       "1  christian eriksen            ajax  \n",
       "2  christian eriksen           alter  \n",
       "3  christian eriksen  aktuelle teams  \n",
       "4  christian eriksen       amsterdam  "
      ]
     },
     "execution_count": 3,
     "metadata": {},
     "output_type": "execute_result"
    }
   ],
   "source": [
    "df.drop(['search_engine','edge','datetime'], axis=1, inplace=True)\n",
    "df[:5]"
   ]
  },
  {
   "cell_type": "code",
   "execution_count": 4,
   "id": "a4227c82",
   "metadata": {
    "id": "a4227c82",
    "pycharm": {
     "is_executing": true
    }
   },
   "outputs": [],
   "source": [
    "# Cleaning df\n",
    "dictionary = {\"Unnamed: 0\" : \"id\"}\n",
    "    \n",
    "df = df.copy()\n",
    "df.rename(columns = dictionary, inplace=True)\n",
    "\n",
    "# Cleaning df_person\n",
    "wiki_dictionary = {\"Wikipedia-Eintrag\" : \"wikipedia_eintrag\",\n",
    "                \"Name, Vorname\": \"name_vorname\",\n",
    "                \"alle Berufe\": \"alle_berufe\",\n",
    "                \"1. Beruf\": \"1_beruf\",\n",
    "                \"Seitenaufrufe Wikipedia der letzten 60 Tage\": \"Seitenaufrufe\"}\n",
    "    \n",
    "df_person = df_person.copy()\n",
    "df_person.rename(columns = wiki_dictionary, inplace=True)"
   ]
  },
  {
   "cell_type": "code",
   "execution_count": 5,
   "id": "be51cf5c",
   "metadata": {
    "id": "be51cf5c",
    "pycharm": {
     "is_executing": true
    }
   },
   "outputs": [],
   "source": [
    "# Unify terms\n",
    "def clean_target_add(x):\n",
    "    return str(x).replace(\"cv\",\"lebenslauf\").replace(\"vs\",\"versus\").replace(\"bvb\",\"borussia dortmund\").replace(\"cpr\",\"herz-lungen-wiederbelebung\") \\\n",
    "        .replace(\"chancellor\",\"bundeskanzler\").replace(\"acab\",\"alle polizisten sind bastarde\").replace(\"city\",\"stadt\").replace(\"age\",\"alter\") \\\n",
    "            .replace(\"contemporary\", \"zeitgemäß\").replace(\"concert\", \"konzert\").replace(\"collection\", \"kollection\").replace(\"chords\", \"akkorde\") \\\n",
    "                .replace(\"birth chart\", \"geburtshoroskop\").replace(\"challenge\", \"herausforderung\").replace(\"child\", \"kind\").replace(\"analysis\", \"analyse\") \\\n",
    "                    .replace(\"book\", \"buch\").replace(\"car\", \"auto\").replace(\"cast\", \"besetzung\").replace(\"closet\", \"kleiderschrank\")\n",
    "        \n",
    "\n",
    "\n",
    "df['target_add'] = df['target_add'].apply(clean_target_add)\n",
    "\n",
    "df['root'] = df['root'].apply(lambda x: re.sub(\"bastian yottta\",\"bastian yotta\", str(x)))\n",
    "# df['target_add'] = df['target_add'].apply(lambda x: re.sub(\"vs\",\"versus\", str(x)))\n",
    "# df['target_add'] = df['target_add'].apply(lambda x: re.sub(\"bvb\",\"borussia dortmund\", str(x)))"
   ]
  },
  {
   "cell_type": "code",
   "execution_count": 6,
   "id": "1cf100f4",
   "metadata": {},
   "outputs": [],
   "source": [
    "def clean_wiki_eintrag(x):\n",
    "    return str(x).replace(\"Jérôme Boateng\",\"Jerome Boateng\")\n",
    "\n",
    "df_person['wikipedia_eintrag'] = df_person['wikipedia_eintrag'].apply(clean_wiki_eintrag)"
   ]
  },
  {
   "cell_type": "code",
   "execution_count": 7,
   "id": "0a099d2e",
   "metadata": {
    "id": "0a099d2e",
    "pycharm": {
     "is_executing": true
    }
   },
   "outputs": [],
   "source": [
    "# Strip whitespace\n",
    "df['target_add'] = df['target_add'].str.split(',').str[-1].str.lstrip() # del whitespace\n",
    "df['source_add'] = df['source_add'].str.split(',').str[-1].str.lstrip() # del whitespace\n",
    "df['root'] = df['root'].str.split(',').str[-1].str.lstrip() # del whitespace"
   ]
  },
  {
   "cell_type": "code",
   "execution_count": 8,
   "id": "f8b1dd14",
   "metadata": {
    "id": "f8b1dd14",
    "outputId": "a09319d9-67e0-4724-cbbb-ea725704d087",
    "pycharm": {
     "is_executing": true
    }
   },
   "outputs": [
    {
     "data": {
      "text/html": [
       "<div>\n",
       "<style scoped>\n",
       "    .dataframe tbody tr th:only-of-type {\n",
       "        vertical-align: middle;\n",
       "    }\n",
       "\n",
       "    .dataframe tbody tr th {\n",
       "        vertical-align: top;\n",
       "    }\n",
       "\n",
       "    .dataframe thead th {\n",
       "        text-align: right;\n",
       "    }\n",
       "</style>\n",
       "<table border=\"1\" class=\"dataframe\">\n",
       "  <thead>\n",
       "    <tr style=\"text-align: right;\">\n",
       "      <th></th>\n",
       "      <th>id</th>\n",
       "      <th>root</th>\n",
       "      <th>source</th>\n",
       "      <th>target</th>\n",
       "      <th>rank</th>\n",
       "      <th>depth</th>\n",
       "      <th>grandparent</th>\n",
       "      <th>parent</th>\n",
       "      <th>source_add</th>\n",
       "      <th>target_add</th>\n",
       "    </tr>\n",
       "  </thead>\n",
       "  <tbody>\n",
       "    <tr>\n",
       "      <th>0</th>\n",
       "      <td>0</td>\n",
       "      <td>christian eriksen</td>\n",
       "      <td>christian eriksen</td>\n",
       "      <td>christian eriksen aktuell</td>\n",
       "      <td>1</td>\n",
       "      <td>0</td>\n",
       "      <td>NaN</td>\n",
       "      <td>NaN</td>\n",
       "      <td>christian eriksen</td>\n",
       "      <td>aktuell</td>\n",
       "    </tr>\n",
       "    <tr>\n",
       "      <th>1</th>\n",
       "      <td>1</td>\n",
       "      <td>christian eriksen</td>\n",
       "      <td>christian eriksen</td>\n",
       "      <td>christian eriksen ajax</td>\n",
       "      <td>2</td>\n",
       "      <td>0</td>\n",
       "      <td>NaN</td>\n",
       "      <td>NaN</td>\n",
       "      <td>christian eriksen</td>\n",
       "      <td>ajax</td>\n",
       "    </tr>\n",
       "  </tbody>\n",
       "</table>\n",
       "</div>"
      ],
      "text/plain": [
       "   id               root             source                     target  rank  \\\n",
       "0   0  christian eriksen  christian eriksen  christian eriksen aktuell     1   \n",
       "1   1  christian eriksen  christian eriksen     christian eriksen ajax     2   \n",
       "\n",
       "   depth  grandparent parent         source_add target_add  \n",
       "0      0          NaN    NaN  christian eriksen    aktuell  \n",
       "1      0          NaN    NaN  christian eriksen       ajax  "
      ]
     },
     "execution_count": 8,
     "metadata": {},
     "output_type": "execute_result"
    }
   ],
   "source": [
    "df[:2]"
   ]
  },
  {
   "cell_type": "markdown",
   "id": "e700c8ed",
   "metadata": {},
   "source": [
    "### If root in excel add gender"
   ]
  },
  {
   "cell_type": "code",
   "execution_count": 9,
   "id": "508aad92",
   "metadata": {},
   "outputs": [
    {
     "data": {
      "text/html": [
       "<div>\n",
       "<style scoped>\n",
       "    .dataframe tbody tr th:only-of-type {\n",
       "        vertical-align: middle;\n",
       "    }\n",
       "\n",
       "    .dataframe tbody tr th {\n",
       "        vertical-align: top;\n",
       "    }\n",
       "\n",
       "    .dataframe thead th {\n",
       "        text-align: right;\n",
       "    }\n",
       "</style>\n",
       "<table border=\"1\" class=\"dataframe\">\n",
       "  <thead>\n",
       "    <tr style=\"text-align: right;\">\n",
       "      <th></th>\n",
       "      <th>UID</th>\n",
       "      <th>wikipedia_eintrag</th>\n",
       "      <th>name_vorname</th>\n",
       "      <th>Name</th>\n",
       "      <th>Vorname</th>\n",
       "      <th>Pseudonym</th>\n",
       "      <th>Geschlecht</th>\n",
       "      <th>Herkunft</th>\n",
       "      <th>alle_berufe</th>\n",
       "      <th>1_beruf</th>\n",
       "      <th>Beruf - Oberkategorie</th>\n",
       "      <th>Geburtsdatum</th>\n",
       "      <th>Geburtsort</th>\n",
       "      <th>Geburtsland</th>\n",
       "      <th>Seitenaufrufe Wikipedia der letzten 12 Monate</th>\n",
       "    </tr>\n",
       "  </thead>\n",
       "  <tbody>\n",
       "    <tr>\n",
       "      <th>0</th>\n",
       "      <td>19955</td>\n",
       "      <td>Wladimir Wladimirowitsch Putin</td>\n",
       "      <td>Putin, Wladimir Wladimirowitsch</td>\n",
       "      <td>Putin</td>\n",
       "      <td>Wladimir Wladimirowitsch</td>\n",
       "      <td>Putin, Vladimir Vladimirovič; Путин, Владимир ...</td>\n",
       "      <td>männlich</td>\n",
       "      <td>russisch</td>\n",
       "      <td>Politiker, Präsident</td>\n",
       "      <td>Politiker</td>\n",
       "      <td>POL</td>\n",
       "      <td>1952-10-07 00:00:00</td>\n",
       "      <td>Sankt Petersburg (Leningrad)</td>\n",
       "      <td>Russland</td>\n",
       "      <td>4782656</td>\n",
       "    </tr>\n",
       "    <tr>\n",
       "      <th>1</th>\n",
       "      <td>4967001</td>\n",
       "      <td>Annalena Baerbock</td>\n",
       "      <td>Baerbock, Annalena</td>\n",
       "      <td>Baerbock</td>\n",
       "      <td>Annalena</td>\n",
       "      <td>Baerbock, Annalena Charlotte Alma (vollständig...</td>\n",
       "      <td>weiblich</td>\n",
       "      <td>deutsch</td>\n",
       "      <td>Politikerin (Bündnis 90/Die Grünen), MdB</td>\n",
       "      <td>Politikerin (Bündnis 90/Die Grünen)</td>\n",
       "      <td>POL</td>\n",
       "      <td>1980-12-15 00:00:00</td>\n",
       "      <td>Hannover</td>\n",
       "      <td>Deutschland</td>\n",
       "      <td>4406600</td>\n",
       "    </tr>\n",
       "  </tbody>\n",
       "</table>\n",
       "</div>"
      ],
      "text/plain": [
       "       UID               wikipedia_eintrag                     name_vorname  \\\n",
       "0    19955  Wladimir Wladimirowitsch Putin  Putin, Wladimir Wladimirowitsch   \n",
       "1  4967001               Annalena Baerbock               Baerbock, Annalena   \n",
       "\n",
       "       Name                   Vorname  \\\n",
       "0     Putin  Wladimir Wladimirowitsch   \n",
       "1  Baerbock                  Annalena   \n",
       "\n",
       "                                           Pseudonym Geschlecht  Herkunft  \\\n",
       "0  Putin, Vladimir Vladimirovič; Путин, Владимир ...   männlich  russisch   \n",
       "1  Baerbock, Annalena Charlotte Alma (vollständig...   weiblich   deutsch   \n",
       "\n",
       "                                alle_berufe  \\\n",
       "0                      Politiker, Präsident   \n",
       "1  Politikerin (Bündnis 90/Die Grünen), MdB   \n",
       "\n",
       "                               1_beruf Beruf - Oberkategorie  \\\n",
       "0                            Politiker                   POL   \n",
       "1  Politikerin (Bündnis 90/Die Grünen)                   POL   \n",
       "\n",
       "          Geburtsdatum                    Geburtsort  Geburtsland  \\\n",
       "0  1952-10-07 00:00:00  Sankt Petersburg (Leningrad)     Russland   \n",
       "1  1980-12-15 00:00:00                      Hannover  Deutschland   \n",
       "\n",
       "   Seitenaufrufe Wikipedia der letzten 12 Monate  \n",
       "0                                        4782656  \n",
       "1                                        4406600  "
      ]
     },
     "execution_count": 9,
     "metadata": {},
     "output_type": "execute_result"
    }
   ],
   "source": [
    "df_person[:2]"
   ]
  },
  {
   "cell_type": "code",
   "execution_count": 10,
   "id": "43bc4b7f",
   "metadata": {},
   "outputs": [],
   "source": [
    "df_person['wikipedia_eintrag'] = df_person['wikipedia_eintrag'].str.replace(r\"\\(.*\\)\",\"\") # del everything in parenthesis\n",
    "df_person = df_person.apply(lambda x: x.astype(str).str.lower())\n",
    "df_person['wikipedia_eintrag'] = df_person['wikipedia_eintrag'].str.rstrip() # del whitespace"
   ]
  },
  {
   "cell_type": "code",
   "execution_count": 11,
   "id": "c408d01b",
   "metadata": {},
   "outputs": [
    {
     "data": {
      "text/plain": [
       "andreas müller       14\n",
       "michael müller       13\n",
       "klaus müller         13\n",
       "thomas müller        11\n",
       "peter schmidt        11\n",
       "christian meyer      10\n",
       "michael schneider    10\n",
       "christian müller     10\n",
       "thomas fischer        9\n",
       "christoph müller      9\n",
       "Name: wikipedia_eintrag, dtype: int64"
      ]
     },
     "execution_count": 11,
     "metadata": {},
     "output_type": "execute_result"
    }
   ],
   "source": [
    "df_person['wikipedia_eintrag'].value_counts()[:10]"
   ]
  },
  {
   "cell_type": "code",
   "execution_count": 12,
   "id": "69f589e1",
   "metadata": {},
   "outputs": [],
   "source": [
    "# to do use df_person or only streaming? \n",
    "df['gender'] = df.root.map(df_person.set_index('wikipedia_eintrag')['Geschlecht'].to_dict())"
   ]
  },
  {
   "cell_type": "code",
   "execution_count": 21,
   "id": "63bb154e",
   "metadata": {},
   "outputs": [
    {
     "data": {
      "text/plain": [
       "männlich        16623\n",
       "weiblich        11886\n",
       "n/a / divers      985\n",
       "Name: gender, dtype: int64"
      ]
     },
     "execution_count": 21,
     "metadata": {},
     "output_type": "execute_result"
    }
   ],
   "source": [
    "df.gender.value_counts()"
   ]
  },
  {
   "cell_type": "code",
   "execution_count": 22,
   "id": "821d7b32",
   "metadata": {},
   "outputs": [
    {
     "data": {
      "text/html": [
       "<div>\n",
       "<style scoped>\n",
       "    .dataframe tbody tr th:only-of-type {\n",
       "        vertical-align: middle;\n",
       "    }\n",
       "\n",
       "    .dataframe tbody tr th {\n",
       "        vertical-align: top;\n",
       "    }\n",
       "\n",
       "    .dataframe thead th {\n",
       "        text-align: right;\n",
       "    }\n",
       "</style>\n",
       "<table border=\"1\" class=\"dataframe\">\n",
       "  <thead>\n",
       "    <tr style=\"text-align: right;\">\n",
       "      <th></th>\n",
       "      <th>id</th>\n",
       "      <th>root</th>\n",
       "      <th>source</th>\n",
       "      <th>target</th>\n",
       "      <th>rank</th>\n",
       "      <th>depth</th>\n",
       "      <th>grandparent</th>\n",
       "      <th>parent</th>\n",
       "      <th>source_add</th>\n",
       "      <th>target_add</th>\n",
       "      <th>gender</th>\n",
       "      <th>tokens</th>\n",
       "      <th>person</th>\n",
       "      <th>location</th>\n",
       "      <th>language</th>\n",
       "    </tr>\n",
       "  </thead>\n",
       "  <tbody>\n",
       "    <tr>\n",
       "      <th>15962</th>\n",
       "      <td>0</td>\n",
       "      <td>demi lovato</td>\n",
       "      <td>demi lovato</td>\n",
       "      <td>demi lovato anyone</td>\n",
       "      <td>1</td>\n",
       "      <td>0</td>\n",
       "      <td>NaN</td>\n",
       "      <td>NaN</td>\n",
       "      <td>demi lovato</td>\n",
       "      <td>anyone</td>\n",
       "      <td>n/a / divers</td>\n",
       "      <td>[anyone]</td>\n",
       "      <td></td>\n",
       "      <td></td>\n",
       "      <td>Language.ENGLISH</td>\n",
       "    </tr>\n",
       "    <tr>\n",
       "      <th>15963</th>\n",
       "      <td>1</td>\n",
       "      <td>demi lovato</td>\n",
       "      <td>demi lovato</td>\n",
       "      <td>demi lovato aktuell</td>\n",
       "      <td>2</td>\n",
       "      <td>0</td>\n",
       "      <td>NaN</td>\n",
       "      <td>NaN</td>\n",
       "      <td>demi lovato</td>\n",
       "      <td>aktuell</td>\n",
       "      <td>n/a / divers</td>\n",
       "      <td>[aktuell]</td>\n",
       "      <td></td>\n",
       "      <td></td>\n",
       "      <td>Language.GERMAN</td>\n",
       "    </tr>\n",
       "    <tr>\n",
       "      <th>15964</th>\n",
       "      <td>2</td>\n",
       "      <td>demi lovato</td>\n",
       "      <td>demi lovato</td>\n",
       "      <td>demi lovato alter</td>\n",
       "      <td>3</td>\n",
       "      <td>0</td>\n",
       "      <td>NaN</td>\n",
       "      <td>NaN</td>\n",
       "      <td>demi lovato</td>\n",
       "      <td>alter</td>\n",
       "      <td>n/a / divers</td>\n",
       "      <td>[alter]</td>\n",
       "      <td></td>\n",
       "      <td></td>\n",
       "      <td>Language.ITALIAN</td>\n",
       "    </tr>\n",
       "    <tr>\n",
       "      <th>15965</th>\n",
       "      <td>3</td>\n",
       "      <td>demi lovato</td>\n",
       "      <td>demi lovato</td>\n",
       "      <td>demi lovato age</td>\n",
       "      <td>4</td>\n",
       "      <td>0</td>\n",
       "      <td>NaN</td>\n",
       "      <td>NaN</td>\n",
       "      <td>demi lovato</td>\n",
       "      <td>alter</td>\n",
       "      <td>n/a / divers</td>\n",
       "      <td>[alter]</td>\n",
       "      <td></td>\n",
       "      <td></td>\n",
       "      <td>Language.ITALIAN</td>\n",
       "    </tr>\n",
       "    <tr>\n",
       "      <th>15966</th>\n",
       "      <td>4</td>\n",
       "      <td>demi lovato</td>\n",
       "      <td>demi lovato</td>\n",
       "      <td>demi lovato autotune</td>\n",
       "      <td>5</td>\n",
       "      <td>0</td>\n",
       "      <td>NaN</td>\n",
       "      <td>NaN</td>\n",
       "      <td>demi lovato</td>\n",
       "      <td>autotune</td>\n",
       "      <td>n/a / divers</td>\n",
       "      <td>[autotune]</td>\n",
       "      <td></td>\n",
       "      <td></td>\n",
       "      <td>Language.ITALIAN</td>\n",
       "    </tr>\n",
       "    <tr>\n",
       "      <th>...</th>\n",
       "      <td>...</td>\n",
       "      <td>...</td>\n",
       "      <td>...</td>\n",
       "      <td>...</td>\n",
       "      <td>...</td>\n",
       "      <td>...</td>\n",
       "      <td>...</td>\n",
       "      <td>...</td>\n",
       "      <td>...</td>\n",
       "      <td>...</td>\n",
       "      <td>...</td>\n",
       "      <td>...</td>\n",
       "      <td>...</td>\n",
       "      <td>...</td>\n",
       "      <td>...</td>\n",
       "    </tr>\n",
       "    <tr>\n",
       "      <th>16449</th>\n",
       "      <td>487</td>\n",
       "      <td>demi lovato</td>\n",
       "      <td>demi lovato chords</td>\n",
       "      <td>demi lovato melon cake chords</td>\n",
       "      <td>12</td>\n",
       "      <td>1</td>\n",
       "      <td>NaN</td>\n",
       "      <td>demi lovato</td>\n",
       "      <td>chords</td>\n",
       "      <td>melon</td>\n",
       "      <td>n/a / divers</td>\n",
       "      <td>[melon]</td>\n",
       "      <td></td>\n",
       "      <td></td>\n",
       "      <td>Language.ENGLISH</td>\n",
       "    </tr>\n",
       "    <tr>\n",
       "      <th>16449</th>\n",
       "      <td>487</td>\n",
       "      <td>demi lovato</td>\n",
       "      <td>demi lovato chords</td>\n",
       "      <td>demi lovato melon cake chords</td>\n",
       "      <td>12</td>\n",
       "      <td>1</td>\n",
       "      <td>NaN</td>\n",
       "      <td>demi lovato</td>\n",
       "      <td>chords</td>\n",
       "      <td>cake</td>\n",
       "      <td>n/a / divers</td>\n",
       "      <td>[cake]</td>\n",
       "      <td></td>\n",
       "      <td></td>\n",
       "      <td>Language.ENGLISH</td>\n",
       "    </tr>\n",
       "    <tr>\n",
       "      <th>16450</th>\n",
       "      <td>488</td>\n",
       "      <td>demi lovato</td>\n",
       "      <td>demi lovato chords</td>\n",
       "      <td>demi lovato stone cold chords piano</td>\n",
       "      <td>13</td>\n",
       "      <td>1</td>\n",
       "      <td>NaN</td>\n",
       "      <td>demi lovato</td>\n",
       "      <td>chords</td>\n",
       "      <td>stone</td>\n",
       "      <td>n/a / divers</td>\n",
       "      <td>[stone]</td>\n",
       "      <td></td>\n",
       "      <td></td>\n",
       "      <td>Language.ENGLISH</td>\n",
       "    </tr>\n",
       "    <tr>\n",
       "      <th>16450</th>\n",
       "      <td>488</td>\n",
       "      <td>demi lovato</td>\n",
       "      <td>demi lovato chords</td>\n",
       "      <td>demi lovato stone cold chords piano</td>\n",
       "      <td>13</td>\n",
       "      <td>1</td>\n",
       "      <td>NaN</td>\n",
       "      <td>demi lovato</td>\n",
       "      <td>chords</td>\n",
       "      <td>cold</td>\n",
       "      <td>n/a / divers</td>\n",
       "      <td>[cold]</td>\n",
       "      <td></td>\n",
       "      <td></td>\n",
       "      <td>Language.ENGLISH</td>\n",
       "    </tr>\n",
       "    <tr>\n",
       "      <th>16450</th>\n",
       "      <td>488</td>\n",
       "      <td>demi lovato</td>\n",
       "      <td>demi lovato chords</td>\n",
       "      <td>demi lovato stone cold chords piano</td>\n",
       "      <td>13</td>\n",
       "      <td>1</td>\n",
       "      <td>NaN</td>\n",
       "      <td>demi lovato</td>\n",
       "      <td>chords</td>\n",
       "      <td>piano</td>\n",
       "      <td>n/a / divers</td>\n",
       "      <td>[piano]</td>\n",
       "      <td></td>\n",
       "      <td></td>\n",
       "      <td>Language.ENGLISH</td>\n",
       "    </tr>\n",
       "  </tbody>\n",
       "</table>\n",
       "<p>985 rows × 15 columns</p>\n",
       "</div>"
      ],
      "text/plain": [
       "        id         root              source  \\\n",
       "15962    0  demi lovato         demi lovato   \n",
       "15963    1  demi lovato         demi lovato   \n",
       "15964    2  demi lovato         demi lovato   \n",
       "15965    3  demi lovato         demi lovato   \n",
       "15966    4  demi lovato         demi lovato   \n",
       "...    ...          ...                 ...   \n",
       "16449  487  demi lovato  demi lovato chords   \n",
       "16449  487  demi lovato  demi lovato chords   \n",
       "16450  488  demi lovato  demi lovato chords   \n",
       "16450  488  demi lovato  demi lovato chords   \n",
       "16450  488  demi lovato  demi lovato chords   \n",
       "\n",
       "                                    target  rank  depth  grandparent  \\\n",
       "15962                   demi lovato anyone     1      0          NaN   \n",
       "15963                  demi lovato aktuell     2      0          NaN   \n",
       "15964                    demi lovato alter     3      0          NaN   \n",
       "15965                      demi lovato age     4      0          NaN   \n",
       "15966                 demi lovato autotune     5      0          NaN   \n",
       "...                                    ...   ...    ...          ...   \n",
       "16449        demi lovato melon cake chords    12      1          NaN   \n",
       "16449        demi lovato melon cake chords    12      1          NaN   \n",
       "16450  demi lovato stone cold chords piano    13      1          NaN   \n",
       "16450  demi lovato stone cold chords piano    13      1          NaN   \n",
       "16450  demi lovato stone cold chords piano    13      1          NaN   \n",
       "\n",
       "            parent   source_add target_add        gender      tokens person  \\\n",
       "15962          NaN  demi lovato     anyone  n/a / divers    [anyone]          \n",
       "15963          NaN  demi lovato    aktuell  n/a / divers   [aktuell]          \n",
       "15964          NaN  demi lovato      alter  n/a / divers     [alter]          \n",
       "15965          NaN  demi lovato      alter  n/a / divers     [alter]          \n",
       "15966          NaN  demi lovato   autotune  n/a / divers  [autotune]          \n",
       "...            ...          ...        ...           ...         ...    ...   \n",
       "16449  demi lovato       chords      melon  n/a / divers     [melon]          \n",
       "16449  demi lovato       chords       cake  n/a / divers      [cake]          \n",
       "16450  demi lovato       chords      stone  n/a / divers     [stone]          \n",
       "16450  demi lovato       chords       cold  n/a / divers      [cold]          \n",
       "16450  demi lovato       chords      piano  n/a / divers     [piano]          \n",
       "\n",
       "      location          language  \n",
       "15962           Language.ENGLISH  \n",
       "15963            Language.GERMAN  \n",
       "15964           Language.ITALIAN  \n",
       "15965           Language.ITALIAN  \n",
       "15966           Language.ITALIAN  \n",
       "...        ...               ...  \n",
       "16449           Language.ENGLISH  \n",
       "16449           Language.ENGLISH  \n",
       "16450           Language.ENGLISH  \n",
       "16450           Language.ENGLISH  \n",
       "16450           Language.ENGLISH  \n",
       "\n",
       "[985 rows x 15 columns]"
      ]
     },
     "execution_count": 22,
     "metadata": {},
     "output_type": "execute_result"
    }
   ],
   "source": [
    "df.loc[(df['gender'] == 'n/a / divers')]"
   ]
  },
  {
   "cell_type": "markdown",
   "id": "2f4a9858",
   "metadata": {},
   "source": [
    "Names not unique -> profession not assigned -> Solution add UID in export"
   ]
  },
  {
   "cell_type": "code",
   "execution_count": 13,
   "id": "5e0a48fd",
   "metadata": {},
   "outputs": [],
   "source": [
    "df = df.assign(target_add=df['target_add'].str.split(' ')).explode('target_add')"
   ]
  },
  {
   "cell_type": "markdown",
   "id": "b107eaf3",
   "metadata": {
    "id": "b107eaf3"
   },
   "source": [
    "# | Tokenization"
   ]
  },
  {
   "cell_type": "code",
   "execution_count": 16,
   "id": "8eaa64e6",
   "metadata": {
    "id": "8eaa64e6",
    "outputId": "a37f84c9-e845-4978-e1b5-6b03354e81cd",
    "pycharm": {
     "is_executing": true
    }
   },
   "outputs": [
    {
     "name": "stderr",
     "output_type": "stream",
     "text": [
      "100%|██████████| 33601/33601 [00:00<00:00, 168359.40it/s]\n"
     ]
    }
   ],
   "source": [
    "# With RegexpTokenizer nltk module ->  take only tokens from words and numbers\n",
    "from tqdm import tqdm\n",
    "tqdm.pandas()\n",
    "tokenizer = RegexpTokenizer(r'\\w+')\n",
    "\n",
    "df[\"tokens\"] = df.progress_apply(lambda row: tokenizer.tokenize(str(row[\"target_add\"].lower())), axis=1)"
   ]
  },
  {
   "cell_type": "markdown",
   "id": "d225f120",
   "metadata": {},
   "source": [
    "# Entity Recognition"
   ]
  },
  {
   "cell_type": "code",
   "execution_count": 17,
   "id": "c30b5257",
   "metadata": {},
   "outputs": [
    {
     "ename": "ValueError",
     "evalue": "Must have equal len keys and value when setting with an iterable",
     "output_type": "error",
     "traceback": [
      "\u001b[0;31m---------------------------------------------------------------------------\u001b[0m",
      "\u001b[0;31mValueError\u001b[0m                                Traceback (most recent call last)",
      "\u001b[0;32m/var/folders/r6/h_wybct51z7b6xxxy2vc0cc90t1bls/T/ipykernel_41124/3948518011.py\u001b[0m in \u001b[0;36m<module>\u001b[0;34m\u001b[0m\n\u001b[1;32m     10\u001b[0m         \u001b[0mpersons\u001b[0m\u001b[0;34m.\u001b[0m\u001b[0mappend\u001b[0m\u001b[0;34m(\u001b[0m\u001b[0ment\u001b[0m\u001b[0;34m.\u001b[0m\u001b[0mtext\u001b[0m\u001b[0;34m)\u001b[0m\u001b[0;34m\u001b[0m\u001b[0;34m\u001b[0m\u001b[0m\n\u001b[1;32m     11\u001b[0m         \u001b[0mlocations\u001b[0m\u001b[0;34m.\u001b[0m\u001b[0mappend\u001b[0m\u001b[0;34m(\u001b[0m\u001b[0ment\u001b[0m\u001b[0;34m.\u001b[0m\u001b[0mlabel_\u001b[0m\u001b[0;34m)\u001b[0m\u001b[0;34m\u001b[0m\u001b[0;34m\u001b[0m\u001b[0m\n\u001b[0;32m---> 12\u001b[0;31m     \u001b[0mdf\u001b[0m\u001b[0;34m.\u001b[0m\u001b[0mat\u001b[0m\u001b[0;34m[\u001b[0m\u001b[0mrow\u001b[0m\u001b[0;34m.\u001b[0m\u001b[0mIndex\u001b[0m\u001b[0;34m,\u001b[0m \u001b[0;34m'person'\u001b[0m\u001b[0;34m]\u001b[0m \u001b[0;34m=\u001b[0m \u001b[0mpersons\u001b[0m\u001b[0;34m\u001b[0m\u001b[0;34m\u001b[0m\u001b[0m\n\u001b[0m\u001b[1;32m     13\u001b[0m     \u001b[0mdf\u001b[0m\u001b[0;34m.\u001b[0m\u001b[0mat\u001b[0m\u001b[0;34m[\u001b[0m\u001b[0mrow\u001b[0m\u001b[0;34m.\u001b[0m\u001b[0mIndex\u001b[0m\u001b[0;34m,\u001b[0m \u001b[0;34m'location'\u001b[0m\u001b[0;34m]\u001b[0m \u001b[0;34m=\u001b[0m \u001b[0mlocations\u001b[0m\u001b[0;34m\u001b[0m\u001b[0;34m\u001b[0m\u001b[0m\n\u001b[1;32m     14\u001b[0m \u001b[0mprint\u001b[0m\u001b[0;34m(\u001b[0m\u001b[0mdf\u001b[0m\u001b[0;34m.\u001b[0m\u001b[0mhead\u001b[0m\u001b[0;34m(\u001b[0m\u001b[0;36m2\u001b[0m\u001b[0;34m)\u001b[0m\u001b[0;34m)\u001b[0m\u001b[0;34m\u001b[0m\u001b[0;34m\u001b[0m\u001b[0m\n",
      "\u001b[0;32m~/miniforge3/lib/python3.9/site-packages/pandas/core/indexing.py\u001b[0m in \u001b[0;36m__setitem__\u001b[0;34m(self, key, value)\u001b[0m\n\u001b[1;32m   2269\u001b[0m                 \u001b[0;32mraise\u001b[0m \u001b[0mValueError\u001b[0m\u001b[0;34m(\u001b[0m\u001b[0;34m\"Invalid call for scalar access (setting)!\"\u001b[0m\u001b[0;34m)\u001b[0m\u001b[0;34m\u001b[0m\u001b[0;34m\u001b[0m\u001b[0m\n\u001b[1;32m   2270\u001b[0m \u001b[0;34m\u001b[0m\u001b[0m\n\u001b[0;32m-> 2271\u001b[0;31m             \u001b[0mself\u001b[0m\u001b[0;34m.\u001b[0m\u001b[0mobj\u001b[0m\u001b[0;34m.\u001b[0m\u001b[0mloc\u001b[0m\u001b[0;34m[\u001b[0m\u001b[0mkey\u001b[0m\u001b[0;34m]\u001b[0m \u001b[0;34m=\u001b[0m \u001b[0mvalue\u001b[0m\u001b[0;34m\u001b[0m\u001b[0;34m\u001b[0m\u001b[0m\n\u001b[0m\u001b[1;32m   2272\u001b[0m             \u001b[0;32mreturn\u001b[0m\u001b[0;34m\u001b[0m\u001b[0;34m\u001b[0m\u001b[0m\n\u001b[1;32m   2273\u001b[0m \u001b[0;34m\u001b[0m\u001b[0m\n",
      "\u001b[0;32m~/miniforge3/lib/python3.9/site-packages/pandas/core/indexing.py\u001b[0m in \u001b[0;36m__setitem__\u001b[0;34m(self, key, value)\u001b[0m\n\u001b[1;32m    714\u001b[0m \u001b[0;34m\u001b[0m\u001b[0m\n\u001b[1;32m    715\u001b[0m         \u001b[0miloc\u001b[0m \u001b[0;34m=\u001b[0m \u001b[0mself\u001b[0m \u001b[0;32mif\u001b[0m \u001b[0mself\u001b[0m\u001b[0;34m.\u001b[0m\u001b[0mname\u001b[0m \u001b[0;34m==\u001b[0m \u001b[0;34m\"iloc\"\u001b[0m \u001b[0;32melse\u001b[0m \u001b[0mself\u001b[0m\u001b[0;34m.\u001b[0m\u001b[0mobj\u001b[0m\u001b[0;34m.\u001b[0m\u001b[0miloc\u001b[0m\u001b[0;34m\u001b[0m\u001b[0;34m\u001b[0m\u001b[0m\n\u001b[0;32m--> 716\u001b[0;31m         \u001b[0miloc\u001b[0m\u001b[0;34m.\u001b[0m\u001b[0m_setitem_with_indexer\u001b[0m\u001b[0;34m(\u001b[0m\u001b[0mindexer\u001b[0m\u001b[0;34m,\u001b[0m \u001b[0mvalue\u001b[0m\u001b[0;34m,\u001b[0m \u001b[0mself\u001b[0m\u001b[0;34m.\u001b[0m\u001b[0mname\u001b[0m\u001b[0;34m)\u001b[0m\u001b[0;34m\u001b[0m\u001b[0;34m\u001b[0m\u001b[0m\n\u001b[0m\u001b[1;32m    717\u001b[0m \u001b[0;34m\u001b[0m\u001b[0m\n\u001b[1;32m    718\u001b[0m     \u001b[0;32mdef\u001b[0m \u001b[0m_validate_key\u001b[0m\u001b[0;34m(\u001b[0m\u001b[0mself\u001b[0m\u001b[0;34m,\u001b[0m \u001b[0mkey\u001b[0m\u001b[0;34m,\u001b[0m \u001b[0maxis\u001b[0m\u001b[0;34m:\u001b[0m \u001b[0mint\u001b[0m\u001b[0;34m)\u001b[0m\u001b[0;34m:\u001b[0m\u001b[0;34m\u001b[0m\u001b[0;34m\u001b[0m\u001b[0m\n",
      "\u001b[0;32m~/miniforge3/lib/python3.9/site-packages/pandas/core/indexing.py\u001b[0m in \u001b[0;36m_setitem_with_indexer\u001b[0;34m(self, indexer, value, name)\u001b[0m\n\u001b[1;32m   1686\u001b[0m         \u001b[0;32mif\u001b[0m \u001b[0mtake_split_path\u001b[0m\u001b[0;34m:\u001b[0m\u001b[0;34m\u001b[0m\u001b[0;34m\u001b[0m\u001b[0m\n\u001b[1;32m   1687\u001b[0m             \u001b[0;31m# We have to operate column-wise\u001b[0m\u001b[0;34m\u001b[0m\u001b[0;34m\u001b[0m\u001b[0m\n\u001b[0;32m-> 1688\u001b[0;31m             \u001b[0mself\u001b[0m\u001b[0;34m.\u001b[0m\u001b[0m_setitem_with_indexer_split_path\u001b[0m\u001b[0;34m(\u001b[0m\u001b[0mindexer\u001b[0m\u001b[0;34m,\u001b[0m \u001b[0mvalue\u001b[0m\u001b[0;34m,\u001b[0m \u001b[0mname\u001b[0m\u001b[0;34m)\u001b[0m\u001b[0;34m\u001b[0m\u001b[0;34m\u001b[0m\u001b[0m\n\u001b[0m\u001b[1;32m   1689\u001b[0m         \u001b[0;32melse\u001b[0m\u001b[0;34m:\u001b[0m\u001b[0;34m\u001b[0m\u001b[0;34m\u001b[0m\u001b[0m\n\u001b[1;32m   1690\u001b[0m             \u001b[0mself\u001b[0m\u001b[0;34m.\u001b[0m\u001b[0m_setitem_single_block\u001b[0m\u001b[0;34m(\u001b[0m\u001b[0mindexer\u001b[0m\u001b[0;34m,\u001b[0m \u001b[0mvalue\u001b[0m\u001b[0;34m,\u001b[0m \u001b[0mname\u001b[0m\u001b[0;34m)\u001b[0m\u001b[0;34m\u001b[0m\u001b[0;34m\u001b[0m\u001b[0m\n",
      "\u001b[0;32m~/miniforge3/lib/python3.9/site-packages/pandas/core/indexing.py\u001b[0m in \u001b[0;36m_setitem_with_indexer_split_path\u001b[0;34m(self, indexer, value, name)\u001b[0m\n\u001b[1;32m   1741\u001b[0m                     \u001b[0;32mreturn\u001b[0m \u001b[0mself\u001b[0m\u001b[0;34m.\u001b[0m\u001b[0m_setitem_with_indexer\u001b[0m\u001b[0;34m(\u001b[0m\u001b[0;34m(\u001b[0m\u001b[0mpi\u001b[0m\u001b[0;34m,\u001b[0m \u001b[0minfo_axis\u001b[0m\u001b[0;34m[\u001b[0m\u001b[0;36m0\u001b[0m\u001b[0;34m]\u001b[0m\u001b[0;34m)\u001b[0m\u001b[0;34m,\u001b[0m \u001b[0mvalue\u001b[0m\u001b[0;34m[\u001b[0m\u001b[0;36m0\u001b[0m\u001b[0;34m]\u001b[0m\u001b[0;34m)\u001b[0m\u001b[0;34m\u001b[0m\u001b[0;34m\u001b[0m\u001b[0m\n\u001b[1;32m   1742\u001b[0m \u001b[0;34m\u001b[0m\u001b[0m\n\u001b[0;32m-> 1743\u001b[0;31m                 raise ValueError(\n\u001b[0m\u001b[1;32m   1744\u001b[0m                     \u001b[0;34m\"Must have equal len keys and value \"\u001b[0m\u001b[0;34m\u001b[0m\u001b[0;34m\u001b[0m\u001b[0m\n\u001b[1;32m   1745\u001b[0m                     \u001b[0;34m\"when setting with an iterable\"\u001b[0m\u001b[0;34m\u001b[0m\u001b[0;34m\u001b[0m\u001b[0m\n",
      "\u001b[0;31mValueError\u001b[0m: Must have equal len keys and value when setting with an iterable"
     ]
    }
   ],
   "source": [
    "\n",
    "# Enitity Recognition von Städten und Personen:\n",
    "\n",
    "df['person'] = ''\n",
    "df['location'] = ''\n",
    "for row in df.itertuples(index=True, name='Pandas'):\n",
    "    persons = []\n",
    "    locations = []\n",
    "    doc = nlp(str(row.tokens))\n",
    "    for ent in doc.ents:\n",
    "        persons.append(ent.text)\n",
    "        locations.append(ent.label_)\n",
    "    df.at[row.Index, 'person'] = persons\n",
    "    df.at[row.Index, 'location'] = locations\n",
    "print(df.head(2))"
   ]
  },
  {
   "cell_type": "code",
   "execution_count": null,
   "id": "f7bcc68f",
   "metadata": {},
   "outputs": [
    {
     "name": "stdout",
     "output_type": "stream",
     "text": [
      "Manuel Neuer 5 17 PER\n",
      "Berlin 27 33 LOC\n"
     ]
    }
   ],
   "source": [
    "##Enitity Recognition von Städten und Personen:\n",
    "#https://spacy.io/usage/linguistic-features\n",
    "\n",
    "#! pip install https://github.com/explosion/spacy-models/releases/download/de_core_news_sm-3.0.0/de_core_news_sm-3.0.0-py3-none-any.whl\n",
    "#! pip install https://github.com/explosion/spacy-models/releases/download/de_core_news_sm-3.0.0/de_core_news_sm-3.0.0.tar.gz\n",
    "#import spacy\n",
    "#nlp = spacy.load('de_core_news_sm')\n",
    "\n",
    "'''doc = nlp('Ich, Manuel Neuer wohne in Berlin.')\n",
    "for ent in doc.ents:\n",
    "    print(ent.text, ent.start_char, ent.end_char, ent.label_)'''"
   ]
  },
  {
   "cell_type": "markdown",
   "id": "2f649e96",
   "metadata": {
    "id": "2f649e96"
   },
   "source": [
    "# | Language Detection"
   ]
  },
  {
   "cell_type": "code",
   "execution_count": 18,
   "id": "4035bc52",
   "metadata": {
    "id": "4035bc52",
    "pycharm": {
     "is_executing": true
    }
   },
   "outputs": [
    {
     "name": "stderr",
     "output_type": "stream",
     "text": [
      "100%|██████████| 33601/33601 [00:39<00:00, 852.62it/s] \n"
     ]
    }
   ],
   "source": [
    "languages = [Language.ENGLISH, Language.FRENCH, Language.GERMAN, Language.SPANISH, Language.TURKISH, Language.DUTCH, Language.ITALIAN, Language.POLISH, Language.RUSSIAN]\n",
    "detector = LanguageDetectorBuilder.from_languages(*languages).build()\n",
    "df['language'] = df['target'].progress_apply(lambda x:detector.detect_language_of(x))"
   ]
  },
  {
   "cell_type": "code",
   "execution_count": 19,
   "id": "5b3ea8b8",
   "metadata": {},
   "outputs": [
    {
     "data": {
      "text/html": [
       "<div>\n",
       "<style scoped>\n",
       "    .dataframe tbody tr th:only-of-type {\n",
       "        vertical-align: middle;\n",
       "    }\n",
       "\n",
       "    .dataframe tbody tr th {\n",
       "        vertical-align: top;\n",
       "    }\n",
       "\n",
       "    .dataframe thead th {\n",
       "        text-align: right;\n",
       "    }\n",
       "</style>\n",
       "<table border=\"1\" class=\"dataframe\">\n",
       "  <thead>\n",
       "    <tr style=\"text-align: right;\">\n",
       "      <th></th>\n",
       "      <th>id</th>\n",
       "      <th>root</th>\n",
       "      <th>source</th>\n",
       "      <th>target</th>\n",
       "      <th>rank</th>\n",
       "      <th>depth</th>\n",
       "      <th>grandparent</th>\n",
       "      <th>parent</th>\n",
       "      <th>source_add</th>\n",
       "      <th>target_add</th>\n",
       "      <th>gender</th>\n",
       "      <th>tokens</th>\n",
       "      <th>person</th>\n",
       "      <th>location</th>\n",
       "      <th>language</th>\n",
       "    </tr>\n",
       "  </thead>\n",
       "  <tbody>\n",
       "    <tr>\n",
       "      <th>0</th>\n",
       "      <td>0</td>\n",
       "      <td>christian eriksen</td>\n",
       "      <td>christian eriksen</td>\n",
       "      <td>christian eriksen aktuell</td>\n",
       "      <td>1</td>\n",
       "      <td>0</td>\n",
       "      <td>NaN</td>\n",
       "      <td>NaN</td>\n",
       "      <td>christian eriksen</td>\n",
       "      <td>aktuell</td>\n",
       "      <td>männlich</td>\n",
       "      <td>[aktuell]</td>\n",
       "      <td></td>\n",
       "      <td></td>\n",
       "      <td>Language.GERMAN</td>\n",
       "    </tr>\n",
       "    <tr>\n",
       "      <th>1</th>\n",
       "      <td>1</td>\n",
       "      <td>christian eriksen</td>\n",
       "      <td>christian eriksen</td>\n",
       "      <td>christian eriksen ajax</td>\n",
       "      <td>2</td>\n",
       "      <td>0</td>\n",
       "      <td>NaN</td>\n",
       "      <td>NaN</td>\n",
       "      <td>christian eriksen</td>\n",
       "      <td>ajax</td>\n",
       "      <td>männlich</td>\n",
       "      <td>[ajax]</td>\n",
       "      <td></td>\n",
       "      <td></td>\n",
       "      <td>Language.DUTCH</td>\n",
       "    </tr>\n",
       "    <tr>\n",
       "      <th>2</th>\n",
       "      <td>2</td>\n",
       "      <td>christian eriksen</td>\n",
       "      <td>christian eriksen</td>\n",
       "      <td>christian eriksen alter</td>\n",
       "      <td>3</td>\n",
       "      <td>0</td>\n",
       "      <td>NaN</td>\n",
       "      <td>NaN</td>\n",
       "      <td>christian eriksen</td>\n",
       "      <td>alter</td>\n",
       "      <td>männlich</td>\n",
       "      <td>[alter]</td>\n",
       "      <td></td>\n",
       "      <td></td>\n",
       "      <td>Language.GERMAN</td>\n",
       "    </tr>\n",
       "    <tr>\n",
       "      <th>3</th>\n",
       "      <td>3</td>\n",
       "      <td>christian eriksen</td>\n",
       "      <td>christian eriksen</td>\n",
       "      <td>christian eriksen aktuelle teams</td>\n",
       "      <td>4</td>\n",
       "      <td>0</td>\n",
       "      <td>NaN</td>\n",
       "      <td>NaN</td>\n",
       "      <td>christian eriksen</td>\n",
       "      <td>aktuelle</td>\n",
       "      <td>männlich</td>\n",
       "      <td>[aktuelle]</td>\n",
       "      <td></td>\n",
       "      <td></td>\n",
       "      <td>Language.GERMAN</td>\n",
       "    </tr>\n",
       "    <tr>\n",
       "      <th>3</th>\n",
       "      <td>3</td>\n",
       "      <td>christian eriksen</td>\n",
       "      <td>christian eriksen</td>\n",
       "      <td>christian eriksen aktuelle teams</td>\n",
       "      <td>4</td>\n",
       "      <td>0</td>\n",
       "      <td>NaN</td>\n",
       "      <td>NaN</td>\n",
       "      <td>christian eriksen</td>\n",
       "      <td>teams</td>\n",
       "      <td>männlich</td>\n",
       "      <td>[teams]</td>\n",
       "      <td></td>\n",
       "      <td></td>\n",
       "      <td>Language.GERMAN</td>\n",
       "    </tr>\n",
       "    <tr>\n",
       "      <th>4</th>\n",
       "      <td>4</td>\n",
       "      <td>christian eriksen</td>\n",
       "      <td>christian eriksen</td>\n",
       "      <td>christian eriksen amsterdam</td>\n",
       "      <td>5</td>\n",
       "      <td>0</td>\n",
       "      <td>NaN</td>\n",
       "      <td>NaN</td>\n",
       "      <td>christian eriksen</td>\n",
       "      <td>amsterdam</td>\n",
       "      <td>männlich</td>\n",
       "      <td>[amsterdam]</td>\n",
       "      <td></td>\n",
       "      <td></td>\n",
       "      <td>Language.DUTCH</td>\n",
       "    </tr>\n",
       "    <tr>\n",
       "      <th>5</th>\n",
       "      <td>5</td>\n",
       "      <td>christian eriksen</td>\n",
       "      <td>christian eriksen</td>\n",
       "      <td>christian eriksen aktueller verein</td>\n",
       "      <td>6</td>\n",
       "      <td>0</td>\n",
       "      <td>NaN</td>\n",
       "      <td>NaN</td>\n",
       "      <td>christian eriksen</td>\n",
       "      <td>aktueller</td>\n",
       "      <td>männlich</td>\n",
       "      <td>[aktueller]</td>\n",
       "      <td></td>\n",
       "      <td></td>\n",
       "      <td>Language.GERMAN</td>\n",
       "    </tr>\n",
       "    <tr>\n",
       "      <th>5</th>\n",
       "      <td>5</td>\n",
       "      <td>christian eriksen</td>\n",
       "      <td>christian eriksen</td>\n",
       "      <td>christian eriksen aktueller verein</td>\n",
       "      <td>6</td>\n",
       "      <td>0</td>\n",
       "      <td>NaN</td>\n",
       "      <td>NaN</td>\n",
       "      <td>christian eriksen</td>\n",
       "      <td>verein</td>\n",
       "      <td>männlich</td>\n",
       "      <td>[verein]</td>\n",
       "      <td></td>\n",
       "      <td></td>\n",
       "      <td>Language.GERMAN</td>\n",
       "    </tr>\n",
       "    <tr>\n",
       "      <th>6</th>\n",
       "      <td>6</td>\n",
       "      <td>christian eriksen</td>\n",
       "      <td>christian eriksen</td>\n",
       "      <td>christian eriksen accident</td>\n",
       "      <td>7</td>\n",
       "      <td>0</td>\n",
       "      <td>NaN</td>\n",
       "      <td>NaN</td>\n",
       "      <td>christian eriksen</td>\n",
       "      <td>accident</td>\n",
       "      <td>männlich</td>\n",
       "      <td>[accident]</td>\n",
       "      <td></td>\n",
       "      <td></td>\n",
       "      <td>Language.ENGLISH</td>\n",
       "    </tr>\n",
       "    <tr>\n",
       "      <th>7</th>\n",
       "      <td>7</td>\n",
       "      <td>christian eriksen</td>\n",
       "      <td>christian eriksen</td>\n",
       "      <td>christian eriksen ajax amsterdam</td>\n",
       "      <td>8</td>\n",
       "      <td>0</td>\n",
       "      <td>NaN</td>\n",
       "      <td>NaN</td>\n",
       "      <td>christian eriksen</td>\n",
       "      <td>ajax</td>\n",
       "      <td>männlich</td>\n",
       "      <td>[ajax]</td>\n",
       "      <td></td>\n",
       "      <td></td>\n",
       "      <td>Language.DUTCH</td>\n",
       "    </tr>\n",
       "  </tbody>\n",
       "</table>\n",
       "</div>"
      ],
      "text/plain": [
       "   id               root             source  \\\n",
       "0   0  christian eriksen  christian eriksen   \n",
       "1   1  christian eriksen  christian eriksen   \n",
       "2   2  christian eriksen  christian eriksen   \n",
       "3   3  christian eriksen  christian eriksen   \n",
       "3   3  christian eriksen  christian eriksen   \n",
       "4   4  christian eriksen  christian eriksen   \n",
       "5   5  christian eriksen  christian eriksen   \n",
       "5   5  christian eriksen  christian eriksen   \n",
       "6   6  christian eriksen  christian eriksen   \n",
       "7   7  christian eriksen  christian eriksen   \n",
       "\n",
       "                               target  rank  depth  grandparent parent  \\\n",
       "0           christian eriksen aktuell     1      0          NaN    NaN   \n",
       "1              christian eriksen ajax     2      0          NaN    NaN   \n",
       "2             christian eriksen alter     3      0          NaN    NaN   \n",
       "3    christian eriksen aktuelle teams     4      0          NaN    NaN   \n",
       "3    christian eriksen aktuelle teams     4      0          NaN    NaN   \n",
       "4         christian eriksen amsterdam     5      0          NaN    NaN   \n",
       "5  christian eriksen aktueller verein     6      0          NaN    NaN   \n",
       "5  christian eriksen aktueller verein     6      0          NaN    NaN   \n",
       "6          christian eriksen accident     7      0          NaN    NaN   \n",
       "7    christian eriksen ajax amsterdam     8      0          NaN    NaN   \n",
       "\n",
       "          source_add target_add    gender       tokens person location  \\\n",
       "0  christian eriksen    aktuell  männlich    [aktuell]                   \n",
       "1  christian eriksen       ajax  männlich       [ajax]                   \n",
       "2  christian eriksen      alter  männlich      [alter]                   \n",
       "3  christian eriksen   aktuelle  männlich   [aktuelle]                   \n",
       "3  christian eriksen      teams  männlich      [teams]                   \n",
       "4  christian eriksen  amsterdam  männlich  [amsterdam]                   \n",
       "5  christian eriksen  aktueller  männlich  [aktueller]                   \n",
       "5  christian eriksen     verein  männlich     [verein]                   \n",
       "6  christian eriksen   accident  männlich   [accident]                   \n",
       "7  christian eriksen       ajax  männlich       [ajax]                   \n",
       "\n",
       "           language  \n",
       "0   Language.GERMAN  \n",
       "1    Language.DUTCH  \n",
       "2   Language.GERMAN  \n",
       "3   Language.GERMAN  \n",
       "3   Language.GERMAN  \n",
       "4    Language.DUTCH  \n",
       "5   Language.GERMAN  \n",
       "5   Language.GERMAN  \n",
       "6  Language.ENGLISH  \n",
       "7    Language.DUTCH  "
      ]
     },
     "execution_count": 19,
     "metadata": {},
     "output_type": "execute_result"
    }
   ],
   "source": [
    "df.head(10)"
   ]
  },
  {
   "cell_type": "code",
   "execution_count": 20,
   "id": "7e9d7571",
   "metadata": {},
   "outputs": [
    {
     "data": {
      "text/plain": [
       "Language.GERMAN     21165\n",
       "Language.ENGLISH     8394\n",
       "Language.DUTCH       1374\n",
       "Language.FRENCH      1181\n",
       "Language.ITALIAN      733\n",
       "Language.TURKISH      397\n",
       "Language.SPANISH      217\n",
       "Language.POLISH       140\n",
       "Name: language, dtype: int64"
      ]
     },
     "execution_count": 20,
     "metadata": {},
     "output_type": "execute_result"
    }
   ],
   "source": [
    "df.language.value_counts()"
   ]
  },
  {
   "cell_type": "markdown",
   "id": "b980339d",
   "metadata": {
    "id": "b980339d"
   },
   "source": [
    "# | Linguistic Processing"
   ]
  },
  {
   "cell_type": "markdown",
   "id": "30cbbf91",
   "metadata": {
    "id": "30cbbf91"
   },
   "source": [
    "## | Lemmatization"
   ]
  },
  {
   "cell_type": "code",
   "execution_count": null,
   "id": "e51066db",
   "metadata": {
    "id": "e51066db",
    "pycharm": {
     "is_executing": true
    }
   },
   "outputs": [
    {
     "name": "stderr",
     "output_type": "stream",
     "text": [
      "[nltk_data] Downloading package omw-1.4 to\n",
      "[nltk_data]     /Users/landsiedelj/nltk_data...\n",
      "[nltk_data]   Package omw-1.4 is already up-to-date!\n",
      "[nltk_data] Downloading package wordnet to\n",
      "[nltk_data]     /Users/landsiedelj/nltk_data...\n",
      "[nltk_data]   Package wordnet is already up-to-date!\n"
     ]
    }
   ],
   "source": [
    "from nltk.stem import WordNetLemmatizer \n",
    "nltk.download('omw-1.4')\n",
    "nltk.download('wordnet')\n",
    "lemmatizer = WordNetLemmatizer()\n",
    "df[\"lemmata\"] = df.apply(lambda row: [lemmatizer.lemmatize(word) for word in row[\"tokens\"]], axis=1)"
   ]
  },
  {
   "cell_type": "code",
   "execution_count": null,
   "id": "38bec8bd",
   "metadata": {
    "id": "38bec8bd",
    "pycharm": {
     "is_executing": true
    }
   },
   "outputs": [],
   "source": [
    "# Lemmatization with word type from https://www.machinelearningplus.com/nlp/lemmatization-examples-python/\n",
    "# Lemmatize with POS Tag\n",
    "from nltk.corpus import wordnet\n",
    "lemmatizer = WordNetLemmatizer()\n",
    "\n",
    "def get_wordnet_pos(word):\n",
    "    \"\"\"Map POS tag to first character lemmatize() accepts\"\"\"\n",
    "    tag = nltk.pos_tag([word])[0][1][0].upper()\n",
    "    tag_dict = {\"J\": wordnet.ADJ,\n",
    "                \"N\": wordnet.NOUN,\n",
    "                \"V\": wordnet.VERB,\n",
    "                \"R\": wordnet.ADV}\n",
    "    return tag_dict.get(tag, wordnet.NOUN)\n",
    "\n",
    "\n",
    "df[\"lemmata_word_type\"] = df.apply(lambda row: [lemmatizer.lemmatize(w, get_wordnet_pos(w)) for w in row[\"tokens\"]], axis=1)"
   ]
  },
  {
   "cell_type": "code",
   "execution_count": null,
   "id": "f3251499",
   "metadata": {},
   "outputs": [
    {
     "data": {
      "text/html": [
       "<div>\n",
       "<style scoped>\n",
       "    .dataframe tbody tr th:only-of-type {\n",
       "        vertical-align: middle;\n",
       "    }\n",
       "\n",
       "    .dataframe tbody tr th {\n",
       "        vertical-align: top;\n",
       "    }\n",
       "\n",
       "    .dataframe thead th {\n",
       "        text-align: right;\n",
       "    }\n",
       "</style>\n",
       "<table border=\"1\" class=\"dataframe\">\n",
       "  <thead>\n",
       "    <tr style=\"text-align: right;\">\n",
       "      <th></th>\n",
       "      <th>id</th>\n",
       "      <th>root</th>\n",
       "      <th>source</th>\n",
       "      <th>target</th>\n",
       "      <th>rank</th>\n",
       "      <th>depth</th>\n",
       "      <th>grandparent</th>\n",
       "      <th>parent</th>\n",
       "      <th>source_add</th>\n",
       "      <th>target_add</th>\n",
       "      <th>tokens</th>\n",
       "      <th>pos</th>\n",
       "      <th>person</th>\n",
       "      <th>location</th>\n",
       "      <th>language</th>\n",
       "      <th>lemmata</th>\n",
       "      <th>lemmata_word_type</th>\n",
       "    </tr>\n",
       "  </thead>\n",
       "  <tbody>\n",
       "    <tr>\n",
       "      <th>0</th>\n",
       "      <td>0</td>\n",
       "      <td>christian eriksen</td>\n",
       "      <td>christian eriksen</td>\n",
       "      <td>christian eriksen aktuell</td>\n",
       "      <td>1</td>\n",
       "      <td>0</td>\n",
       "      <td>NaN</td>\n",
       "      <td>NaN</td>\n",
       "      <td>christian eriksen</td>\n",
       "      <td>aktuell</td>\n",
       "      <td>[aktuell]</td>\n",
       "      <td>[(aktuell, NN)]</td>\n",
       "      <td>[]</td>\n",
       "      <td>[]</td>\n",
       "      <td>Language.GERMAN</td>\n",
       "      <td>[aktuell]</td>\n",
       "      <td>[aktuell]</td>\n",
       "    </tr>\n",
       "    <tr>\n",
       "      <th>1</th>\n",
       "      <td>1</td>\n",
       "      <td>christian eriksen</td>\n",
       "      <td>christian eriksen</td>\n",
       "      <td>christian eriksen ajax</td>\n",
       "      <td>2</td>\n",
       "      <td>0</td>\n",
       "      <td>NaN</td>\n",
       "      <td>NaN</td>\n",
       "      <td>christian eriksen</td>\n",
       "      <td>ajax</td>\n",
       "      <td>[ajax]</td>\n",
       "      <td>[(ajax, NN)]</td>\n",
       "      <td>[]</td>\n",
       "      <td>[]</td>\n",
       "      <td>Language.DUTCH</td>\n",
       "      <td>[ajax]</td>\n",
       "      <td>[ajax]</td>\n",
       "    </tr>\n",
       "    <tr>\n",
       "      <th>2</th>\n",
       "      <td>2</td>\n",
       "      <td>christian eriksen</td>\n",
       "      <td>christian eriksen</td>\n",
       "      <td>christian eriksen alter</td>\n",
       "      <td>3</td>\n",
       "      <td>0</td>\n",
       "      <td>NaN</td>\n",
       "      <td>NaN</td>\n",
       "      <td>christian eriksen</td>\n",
       "      <td>alter</td>\n",
       "      <td>[alter]</td>\n",
       "      <td>[(alter, NN)]</td>\n",
       "      <td>[]</td>\n",
       "      <td>[]</td>\n",
       "      <td>Language.GERMAN</td>\n",
       "      <td>[alter]</td>\n",
       "      <td>[alter]</td>\n",
       "    </tr>\n",
       "    <tr>\n",
       "      <th>3</th>\n",
       "      <td>3</td>\n",
       "      <td>christian eriksen</td>\n",
       "      <td>christian eriksen</td>\n",
       "      <td>christian eriksen aktuelle teams</td>\n",
       "      <td>4</td>\n",
       "      <td>0</td>\n",
       "      <td>NaN</td>\n",
       "      <td>NaN</td>\n",
       "      <td>christian eriksen</td>\n",
       "      <td>aktuelle teams</td>\n",
       "      <td>[aktuelle, teams]</td>\n",
       "      <td>[(aktuelle, NNS), (teams, NNS)]</td>\n",
       "      <td>[]</td>\n",
       "      <td>[]</td>\n",
       "      <td>Language.GERMAN</td>\n",
       "      <td>[aktuelle, team]</td>\n",
       "      <td>[aktuelle, team]</td>\n",
       "    </tr>\n",
       "    <tr>\n",
       "      <th>4</th>\n",
       "      <td>4</td>\n",
       "      <td>christian eriksen</td>\n",
       "      <td>christian eriksen</td>\n",
       "      <td>christian eriksen amsterdam</td>\n",
       "      <td>5</td>\n",
       "      <td>0</td>\n",
       "      <td>NaN</td>\n",
       "      <td>NaN</td>\n",
       "      <td>christian eriksen</td>\n",
       "      <td>amsterdam</td>\n",
       "      <td>[amsterdam]</td>\n",
       "      <td>[(amsterdam, NN)]</td>\n",
       "      <td>[]</td>\n",
       "      <td>[]</td>\n",
       "      <td>Language.DUTCH</td>\n",
       "      <td>[amsterdam]</td>\n",
       "      <td>[amsterdam]</td>\n",
       "    </tr>\n",
       "  </tbody>\n",
       "</table>\n",
       "</div>"
      ],
      "text/plain": [
       "   id               root             source                            target  \\\n",
       "0   0  christian eriksen  christian eriksen         christian eriksen aktuell   \n",
       "1   1  christian eriksen  christian eriksen            christian eriksen ajax   \n",
       "2   2  christian eriksen  christian eriksen           christian eriksen alter   \n",
       "3   3  christian eriksen  christian eriksen  christian eriksen aktuelle teams   \n",
       "4   4  christian eriksen  christian eriksen       christian eriksen amsterdam   \n",
       "\n",
       "   rank  depth  grandparent parent         source_add      target_add  \\\n",
       "0     1      0          NaN    NaN  christian eriksen         aktuell   \n",
       "1     2      0          NaN    NaN  christian eriksen            ajax   \n",
       "2     3      0          NaN    NaN  christian eriksen           alter   \n",
       "3     4      0          NaN    NaN  christian eriksen  aktuelle teams   \n",
       "4     5      0          NaN    NaN  christian eriksen       amsterdam   \n",
       "\n",
       "              tokens                              pos person location  \\\n",
       "0          [aktuell]                  [(aktuell, NN)]     []       []   \n",
       "1             [ajax]                     [(ajax, NN)]     []       []   \n",
       "2            [alter]                    [(alter, NN)]     []       []   \n",
       "3  [aktuelle, teams]  [(aktuelle, NNS), (teams, NNS)]     []       []   \n",
       "4        [amsterdam]                [(amsterdam, NN)]     []       []   \n",
       "\n",
       "          language           lemmata lemmata_word_type  \n",
       "0  Language.GERMAN         [aktuell]         [aktuell]  \n",
       "1   Language.DUTCH            [ajax]            [ajax]  \n",
       "2  Language.GERMAN           [alter]           [alter]  \n",
       "3  Language.GERMAN  [aktuelle, team]  [aktuelle, team]  \n",
       "4   Language.DUTCH       [amsterdam]       [amsterdam]  "
      ]
     },
     "execution_count": 35,
     "metadata": {},
     "output_type": "execute_result"
    }
   ],
   "source": [
    "df.head()"
   ]
  },
  {
   "cell_type": "code",
   "execution_count": null,
   "id": "98407d47",
   "metadata": {},
   "outputs": [
    {
     "name": "stdout",
     "output_type": "stream",
     "text": [
      "4201\n"
     ]
    },
    {
     "data": {
      "text/plain": [
       "['aktuell',\n",
       " 'ajax',\n",
       " 'alter',\n",
       " 'aktuelle teams',\n",
       " 'amsterdam',\n",
       " 'aktueller verein',\n",
       " 'accident',\n",
       " 'ajax amsterdam',\n",
       " 'all cards',\n",
       " 'attack']"
      ]
     },
     "execution_count": 43,
     "metadata": {},
     "output_type": "execute_result"
    }
   ],
   "source": [
    "# Create list of target_add -> suggestion terms\n",
    "\n",
    "suggestion_list = df['target_add'].drop_duplicates().tolist()\n",
    "print(len(suggestion_list))\n",
    "\n",
    "suggestion_list[:10]"
   ]
  },
  {
   "cell_type": "code",
   "execution_count": null,
   "id": "0e0fb569",
   "metadata": {},
   "outputs": [],
   "source": [
    "textfile = open('/Users/landsiedelj/Downloads/suggestion_list.txt', 'w', encoding='utf-8')\n",
    "for element in suggestion_list:\n",
    "    textfile.write(element + '\\n')\n",
    "textfile.close()"
   ]
  },
  {
   "cell_type": "markdown",
   "id": "db305f8c",
   "metadata": {
    "id": "db305f8c"
   },
   "source": [
    "# | Vectorisierung"
   ]
  },
  {
   "cell_type": "markdown",
   "id": "53e4bc4f",
   "metadata": {
    "id": "53e4bc4f"
   },
   "source": [
    "## | SpaCy"
   ]
  },
  {
   "cell_type": "code",
   "execution_count": null,
   "id": "68045307",
   "metadata": {
    "pycharm": {
     "is_executing": true
    }
   },
   "outputs": [],
   "source": [
    "# Testing Vectorization with a subset\n",
    "df_2 = df.copy()[:5000]\n",
    "token_list = df_2.tokens\n",
    "# Creating Single Terms\n",
    "token_list = [a for b in token_list for a in b]\n",
    "token_list = token_list[:5000]"
   ]
  },
  {
   "cell_type": "code",
   "execution_count": null,
   "id": "ec9309ae",
   "metadata": {
    "id": "ec9309ae",
    "pycharm": {
     "is_executing": true
    }
   },
   "outputs": [],
   "source": [
    "# Creating Vector array for our subset\n",
    "doc = list(nlp.pipe(token_list, disable=['parser', 'tagger', 'ner']))\n",
    "vectors = [term.vector for term in doc]"
   ]
  }
 ],
 "metadata": {
  "colab": {
   "name": "DIS22_bias_query_pipeline_030622.ipynb",
   "provenance": []
  },
  "kernelspec": {
   "display_name": "Python 3.9.10 ('base')",
   "language": "python",
   "name": "python3"
  },
  "language_info": {
   "codemirror_mode": {
    "name": "ipython",
    "version": 3
   },
   "file_extension": ".py",
   "mimetype": "text/x-python",
   "name": "python",
   "nbconvert_exporter": "python",
   "pygments_lexer": "ipython3",
   "version": "3.9.10"
  },
  "toc": {
   "base_numbering": 1,
   "nav_menu": {},
   "number_sections": true,
   "sideBar": false,
   "skip_h1_title": false,
   "title_cell": "Table of Contents",
   "title_sidebar": "Contents",
   "toc_cell": true,
   "toc_position": {},
   "toc_section_display": true,
   "toc_window_display": false
  },
  "vscode": {
   "interpreter": {
    "hash": "3d1c3d4a7f8058a677e0e869aeedd37e6b716847110188d754d93c56bb0e75db"
   }
  }
 },
 "nbformat": 4,
 "nbformat_minor": 5
}
